{
  "nbformat": 4,
  "nbformat_minor": 0,
  "metadata": {
    "colab": {
      "provenance": []
    },
    "kernelspec": {
      "name": "python3",
      "display_name": "Python 3"
    },
    "language_info": {
      "name": "python"
    }
  },
  "cells": [
    {
      "cell_type": "code",
      "source": [
        "import matplotlib.pyplot as plt\n",
        "from sklearn.linear_model import LinearRegression\n",
        "from sklearn.metrics import mean_absolute_error,mean_squared_error,root_mean_squared_error, r2_score\n",
        "import plotly.express as px\n",
        "import math\n",
        "import numpy as np\n",
        "import pandas as pd"
      ],
      "metadata": {
        "id": "whthlIwFazFR"
      },
      "execution_count": null,
      "outputs": []
    },
    {
      "cell_type": "code",
      "source": [
        "df = pd.read_csv(\"Data4.csv\")\n",
        "df = df.drop(\"Sl.\", axis=1)\n",
        "df.head()"
      ],
      "metadata": {
        "colab": {
          "base_uri": "https://localhost:8080/",
          "height": 206
        },
        "id": "y0tFw84da7r3",
        "outputId": "c68914d9-de9b-4b4c-c152-a7a5fee8a6b1"
      },
      "execution_count": null,
      "outputs": [
        {
          "output_type": "execute_result",
          "data": {
            "text/plain": [
              "    x1        x2        x3          y\n",
              "0  0.1  0.311089  0.390541  14.705876\n",
              "1  0.2  0.639066  1.389918  26.585100\n",
              "2  0.3  0.840228  1.939903  36.791509\n",
              "3  0.4  1.299710  2.153009  34.090806\n",
              "4  0.5  0.941784  0.945136  31.118089"
            ],
            "text/html": [
              "\n",
              "  <div id=\"df-8f437d0d-e15b-4a39-a616-43f09d5ebc63\" class=\"colab-df-container\">\n",
              "    <div>\n",
              "<style scoped>\n",
              "    .dataframe tbody tr th:only-of-type {\n",
              "        vertical-align: middle;\n",
              "    }\n",
              "\n",
              "    .dataframe tbody tr th {\n",
              "        vertical-align: top;\n",
              "    }\n",
              "\n",
              "    .dataframe thead th {\n",
              "        text-align: right;\n",
              "    }\n",
              "</style>\n",
              "<table border=\"1\" class=\"dataframe\">\n",
              "  <thead>\n",
              "    <tr style=\"text-align: right;\">\n",
              "      <th></th>\n",
              "      <th>x1</th>\n",
              "      <th>x2</th>\n",
              "      <th>x3</th>\n",
              "      <th>y</th>\n",
              "    </tr>\n",
              "  </thead>\n",
              "  <tbody>\n",
              "    <tr>\n",
              "      <th>0</th>\n",
              "      <td>0.1</td>\n",
              "      <td>0.311089</td>\n",
              "      <td>0.390541</td>\n",
              "      <td>14.705876</td>\n",
              "    </tr>\n",
              "    <tr>\n",
              "      <th>1</th>\n",
              "      <td>0.2</td>\n",
              "      <td>0.639066</td>\n",
              "      <td>1.389918</td>\n",
              "      <td>26.585100</td>\n",
              "    </tr>\n",
              "    <tr>\n",
              "      <th>2</th>\n",
              "      <td>0.3</td>\n",
              "      <td>0.840228</td>\n",
              "      <td>1.939903</td>\n",
              "      <td>36.791509</td>\n",
              "    </tr>\n",
              "    <tr>\n",
              "      <th>3</th>\n",
              "      <td>0.4</td>\n",
              "      <td>1.299710</td>\n",
              "      <td>2.153009</td>\n",
              "      <td>34.090806</td>\n",
              "    </tr>\n",
              "    <tr>\n",
              "      <th>4</th>\n",
              "      <td>0.5</td>\n",
              "      <td>0.941784</td>\n",
              "      <td>0.945136</td>\n",
              "      <td>31.118089</td>\n",
              "    </tr>\n",
              "  </tbody>\n",
              "</table>\n",
              "</div>\n",
              "    <div class=\"colab-df-buttons\">\n",
              "\n",
              "  <div class=\"colab-df-container\">\n",
              "    <button class=\"colab-df-convert\" onclick=\"convertToInteractive('df-8f437d0d-e15b-4a39-a616-43f09d5ebc63')\"\n",
              "            title=\"Convert this dataframe to an interactive table.\"\n",
              "            style=\"display:none;\">\n",
              "\n",
              "  <svg xmlns=\"http://www.w3.org/2000/svg\" height=\"24px\" viewBox=\"0 -960 960 960\">\n",
              "    <path d=\"M120-120v-720h720v720H120Zm60-500h600v-160H180v160Zm220 220h160v-160H400v160Zm0 220h160v-160H400v160ZM180-400h160v-160H180v160Zm440 0h160v-160H620v160ZM180-180h160v-160H180v160Zm440 0h160v-160H620v160Z\"/>\n",
              "  </svg>\n",
              "    </button>\n",
              "\n",
              "  <style>\n",
              "    .colab-df-container {\n",
              "      display:flex;\n",
              "      gap: 12px;\n",
              "    }\n",
              "\n",
              "    .colab-df-convert {\n",
              "      background-color: #E8F0FE;\n",
              "      border: none;\n",
              "      border-radius: 50%;\n",
              "      cursor: pointer;\n",
              "      display: none;\n",
              "      fill: #1967D2;\n",
              "      height: 32px;\n",
              "      padding: 0 0 0 0;\n",
              "      width: 32px;\n",
              "    }\n",
              "\n",
              "    .colab-df-convert:hover {\n",
              "      background-color: #E2EBFA;\n",
              "      box-shadow: 0px 1px 2px rgba(60, 64, 67, 0.3), 0px 1px 3px 1px rgba(60, 64, 67, 0.15);\n",
              "      fill: #174EA6;\n",
              "    }\n",
              "\n",
              "    .colab-df-buttons div {\n",
              "      margin-bottom: 4px;\n",
              "    }\n",
              "\n",
              "    [theme=dark] .colab-df-convert {\n",
              "      background-color: #3B4455;\n",
              "      fill: #D2E3FC;\n",
              "    }\n",
              "\n",
              "    [theme=dark] .colab-df-convert:hover {\n",
              "      background-color: #434B5C;\n",
              "      box-shadow: 0px 1px 3px 1px rgba(0, 0, 0, 0.15);\n",
              "      filter: drop-shadow(0px 1px 2px rgba(0, 0, 0, 0.3));\n",
              "      fill: #FFFFFF;\n",
              "    }\n",
              "  </style>\n",
              "\n",
              "    <script>\n",
              "      const buttonEl =\n",
              "        document.querySelector('#df-8f437d0d-e15b-4a39-a616-43f09d5ebc63 button.colab-df-convert');\n",
              "      buttonEl.style.display =\n",
              "        google.colab.kernel.accessAllowed ? 'block' : 'none';\n",
              "\n",
              "      async function convertToInteractive(key) {\n",
              "        const element = document.querySelector('#df-8f437d0d-e15b-4a39-a616-43f09d5ebc63');\n",
              "        const dataTable =\n",
              "          await google.colab.kernel.invokeFunction('convertToInteractive',\n",
              "                                                    [key], {});\n",
              "        if (!dataTable) return;\n",
              "\n",
              "        const docLinkHtml = 'Like what you see? Visit the ' +\n",
              "          '<a target=\"_blank\" href=https://colab.research.google.com/notebooks/data_table.ipynb>data table notebook</a>'\n",
              "          + ' to learn more about interactive tables.';\n",
              "        element.innerHTML = '';\n",
              "        dataTable['output_type'] = 'display_data';\n",
              "        await google.colab.output.renderOutput(dataTable, element);\n",
              "        const docLink = document.createElement('div');\n",
              "        docLink.innerHTML = docLinkHtml;\n",
              "        element.appendChild(docLink);\n",
              "      }\n",
              "    </script>\n",
              "  </div>\n",
              "\n",
              "\n",
              "<div id=\"df-75e1df40-49ff-4307-afb5-5cd561e03ce2\">\n",
              "  <button class=\"colab-df-quickchart\" onclick=\"quickchart('df-75e1df40-49ff-4307-afb5-5cd561e03ce2')\"\n",
              "            title=\"Suggest charts\"\n",
              "            style=\"display:none;\">\n",
              "\n",
              "<svg xmlns=\"http://www.w3.org/2000/svg\" height=\"24px\"viewBox=\"0 0 24 24\"\n",
              "     width=\"24px\">\n",
              "    <g>\n",
              "        <path d=\"M19 3H5c-1.1 0-2 .9-2 2v14c0 1.1.9 2 2 2h14c1.1 0 2-.9 2-2V5c0-1.1-.9-2-2-2zM9 17H7v-7h2v7zm4 0h-2V7h2v10zm4 0h-2v-4h2v4z\"/>\n",
              "    </g>\n",
              "</svg>\n",
              "  </button>\n",
              "\n",
              "<style>\n",
              "  .colab-df-quickchart {\n",
              "      --bg-color: #E8F0FE;\n",
              "      --fill-color: #1967D2;\n",
              "      --hover-bg-color: #E2EBFA;\n",
              "      --hover-fill-color: #174EA6;\n",
              "      --disabled-fill-color: #AAA;\n",
              "      --disabled-bg-color: #DDD;\n",
              "  }\n",
              "\n",
              "  [theme=dark] .colab-df-quickchart {\n",
              "      --bg-color: #3B4455;\n",
              "      --fill-color: #D2E3FC;\n",
              "      --hover-bg-color: #434B5C;\n",
              "      --hover-fill-color: #FFFFFF;\n",
              "      --disabled-bg-color: #3B4455;\n",
              "      --disabled-fill-color: #666;\n",
              "  }\n",
              "\n",
              "  .colab-df-quickchart {\n",
              "    background-color: var(--bg-color);\n",
              "    border: none;\n",
              "    border-radius: 50%;\n",
              "    cursor: pointer;\n",
              "    display: none;\n",
              "    fill: var(--fill-color);\n",
              "    height: 32px;\n",
              "    padding: 0;\n",
              "    width: 32px;\n",
              "  }\n",
              "\n",
              "  .colab-df-quickchart:hover {\n",
              "    background-color: var(--hover-bg-color);\n",
              "    box-shadow: 0 1px 2px rgba(60, 64, 67, 0.3), 0 1px 3px 1px rgba(60, 64, 67, 0.15);\n",
              "    fill: var(--button-hover-fill-color);\n",
              "  }\n",
              "\n",
              "  .colab-df-quickchart-complete:disabled,\n",
              "  .colab-df-quickchart-complete:disabled:hover {\n",
              "    background-color: var(--disabled-bg-color);\n",
              "    fill: var(--disabled-fill-color);\n",
              "    box-shadow: none;\n",
              "  }\n",
              "\n",
              "  .colab-df-spinner {\n",
              "    border: 2px solid var(--fill-color);\n",
              "    border-color: transparent;\n",
              "    border-bottom-color: var(--fill-color);\n",
              "    animation:\n",
              "      spin 1s steps(1) infinite;\n",
              "  }\n",
              "\n",
              "  @keyframes spin {\n",
              "    0% {\n",
              "      border-color: transparent;\n",
              "      border-bottom-color: var(--fill-color);\n",
              "      border-left-color: var(--fill-color);\n",
              "    }\n",
              "    20% {\n",
              "      border-color: transparent;\n",
              "      border-left-color: var(--fill-color);\n",
              "      border-top-color: var(--fill-color);\n",
              "    }\n",
              "    30% {\n",
              "      border-color: transparent;\n",
              "      border-left-color: var(--fill-color);\n",
              "      border-top-color: var(--fill-color);\n",
              "      border-right-color: var(--fill-color);\n",
              "    }\n",
              "    40% {\n",
              "      border-color: transparent;\n",
              "      border-right-color: var(--fill-color);\n",
              "      border-top-color: var(--fill-color);\n",
              "    }\n",
              "    60% {\n",
              "      border-color: transparent;\n",
              "      border-right-color: var(--fill-color);\n",
              "    }\n",
              "    80% {\n",
              "      border-color: transparent;\n",
              "      border-right-color: var(--fill-color);\n",
              "      border-bottom-color: var(--fill-color);\n",
              "    }\n",
              "    90% {\n",
              "      border-color: transparent;\n",
              "      border-bottom-color: var(--fill-color);\n",
              "    }\n",
              "  }\n",
              "</style>\n",
              "\n",
              "  <script>\n",
              "    async function quickchart(key) {\n",
              "      const quickchartButtonEl =\n",
              "        document.querySelector('#' + key + ' button');\n",
              "      quickchartButtonEl.disabled = true;  // To prevent multiple clicks.\n",
              "      quickchartButtonEl.classList.add('colab-df-spinner');\n",
              "      try {\n",
              "        const charts = await google.colab.kernel.invokeFunction(\n",
              "            'suggestCharts', [key], {});\n",
              "      } catch (error) {\n",
              "        console.error('Error during call to suggestCharts:', error);\n",
              "      }\n",
              "      quickchartButtonEl.classList.remove('colab-df-spinner');\n",
              "      quickchartButtonEl.classList.add('colab-df-quickchart-complete');\n",
              "    }\n",
              "    (() => {\n",
              "      let quickchartButtonEl =\n",
              "        document.querySelector('#df-75e1df40-49ff-4307-afb5-5cd561e03ce2 button');\n",
              "      quickchartButtonEl.style.display =\n",
              "        google.colab.kernel.accessAllowed ? 'block' : 'none';\n",
              "    })();\n",
              "  </script>\n",
              "</div>\n",
              "\n",
              "    </div>\n",
              "  </div>\n"
            ]
          },
          "metadata": {},
          "execution_count": 3
        }
      ]
    },
    {
      "cell_type": "code",
      "source": [
        "x_list3 = [float(item) for item in list(df['x1'])]\n",
        "x_list2 = [float(item) for item in list(df['x2'])]\n",
        "x_list1 = [float(item) for item in list(df['x3'])]\n",
        "\n",
        "y_value = [float(item) for item in list(df['y'])]\n",
        "\n",
        "plt.scatter(x_list1, y_value, s=2.5, color=\"green\")\n",
        "plt.scatter(x_list2, y_value, s=2.5, color=\"blue\")\n",
        "plt.scatter(x_list3, y_value, s=2.5, color=\"red\")\n",
        "plt.show()"
      ],
      "metadata": {
        "colab": {
          "base_uri": "https://localhost:8080/",
          "height": 430
        },
        "id": "CmLzLyRvhgnz",
        "outputId": "f340e877-1504-4fe0-8344-ab666ef49273"
      },
      "execution_count": null,
      "outputs": [
        {
          "output_type": "display_data",
          "data": {
            "text/plain": [
              "<Figure size 640x480 with 1 Axes>"
            ],
            "image/png": "[encoded data removed]"
          },
          "metadata": {}
        }
      ]
    },
    {
      "cell_type": "code",
      "source": [
        "y_list = [float(i) for i in df[\"y\"]]\n",
        "x_list = []\n",
        "\n",
        "# Extracting all the experiments from the dataset\n",
        "\n",
        "for i in range(1, 4):\n",
        "  x_list.append([float(i) for i in df[f\"x{i}\"]])\n",
        "\n",
        "x_list.append([float(1) for i in df[\"x1\"]])"
      ],
      "metadata": {
        "id": "4xDsV9AvcXXt"
      },
      "execution_count": null,
      "outputs": []
    },
    {
      "cell_type": "code",
      "source": [
        "# Making x_i list\n",
        "x_lst = []\n",
        "for i in range(100):\n",
        "  value = []\n",
        "  for j in range(4):\n",
        "    value.append(x_list[j][i])\n",
        "\n",
        "  x_lst.append(value)\n"
      ],
      "metadata": {
        "id": "uqo27w_g2oL_"
      },
      "execution_count": null,
      "outputs": []
    },
    {
      "cell_type": "code",
      "source": [
        "# result_array = np.array(x_lst).reshape(-1, 1)\n",
        "x_vector = [] # This will be usde for making array.\n",
        "for row in x_lst:\n",
        "  result_array = np.array(row).reshape(-1, 1)\n",
        "  x_vector.append(result_array)\n",
        "\n",
        "x_T_vector = []\n",
        "for row in x_vector:\n",
        "  value = row.T\n",
        "  x_T_vector.append(value)\n"
      ],
      "metadata": {
        "id": "b5mn4tFH_IjB"
      },
      "execution_count": null,
      "outputs": []
    },
    {
      "cell_type": "code",
      "source": [
        "# multiplying x and a transpose and adding them for getting the desired matrix\n",
        "matrix = np.zeros((4, 4))\n",
        "\n",
        "# np.dot(matrix_a, matrix_b)\n",
        "for i in range(len(df)):\n",
        "  m = np.dot(x_vector[i], x_T_vector[i])\n",
        "  matrix += m\n",
        "\n",
        "matrix_inverse = np.linalg.inv(matrix)\n",
        "matrix_inverse"
      ],
      "metadata": {
        "colab": {
          "base_uri": "https://localhost:8080/"
        },
        "id": "vKq1RXS7_Eh_",
        "outputId": "fb3e556f-b378-4ea4-eaaf-3248d62ff323"
      },
      "execution_count": null,
      "outputs": [
        {
          "output_type": "execute_result",
          "data": {
            "text/plain": [
              "array([[ 0.17232455, -0.13967998, -0.03093789,  0.0911748 ],\n",
              "       [-0.13967998,  0.1444378 , -0.00671043, -0.05419394],\n",
              "       [-0.03093789, -0.00671043,  0.03917373, -0.04402717],\n",
              "       [ 0.0911748 , -0.05419394, -0.04402717,  0.11668684]])"
            ]
          },
          "metadata": {},
          "execution_count": 8
        }
      ]
    },
    {
      "cell_type": "code",
      "source": [
        "\n",
        "xy_vector = []\n",
        "\n",
        "for col in range(len(df.columns)):\n",
        "\n",
        "    var = []\n",
        "    for val in range(len(df)):\n",
        "        value = x_list[col][val] * y_list[val]\n",
        "        var.append(value)\n",
        "\n",
        "    xy_vector.append(np.sum(var))\n",
        "\n",
        "xy_vector"
      ],
      "metadata": {
        "colab": {
          "base_uri": "https://localhost:8080/"
        },
        "id": "uC8QSM6UcXKZ",
        "outputId": "149b6347-2bf3-4269-c02f-5a7229ac6d7b"
      },
      "execution_count": null,
      "outputs": [
        {
          "output_type": "execute_result",
          "data": {
            "text/plain": [
              "[66074.55450871799, 71379.27277894279, 76343.57296321742, 10441.80045016]"
            ]
          },
          "metadata": {},
          "execution_count": 9
        }
      ]
    },
    {
      "cell_type": "code",
      "source": [
        "# Now time to get the coefficient vector\n",
        "w = np.dot(matrix_inverse, xy_vector)\n",
        "w\n",
        "predicted_Y = []\n",
        "for i in range(100):\n",
        "  r1 = w[3] + w[0] * x_list[0][i] + w[1] * x_list[1][i] + w[2] * x_list[2][i]\n",
        "  predicted_Y.append(r1)\n",
        "\n",
        "w"
      ],
      "metadata": {
        "colab": {
          "base_uri": "https://localhost:8080/"
        },
        "id": "r9vjWD3Ad-U2",
        "outputId": "d6cce12d-d293-4c45-e66a-d658c7d50127"
      },
      "execution_count": null,
      "outputs": [
        {
          "output_type": "execute_result",
          "data": {
            "text/plain": [
              "array([ 6.13243763,  2.39226554,  7.74681038, 13.23947782])"
            ]
          },
          "metadata": {},
          "execution_count": 32
        }
      ]
    },
    {
      "cell_type": "code",
      "source": [
        "mae = mean_absolute_error(y_true=y_list, y_pred=predicted_Y)\n",
        "mse = mean_squared_error(y_true=y_list, y_pred=predicted_Y)\n",
        "rmse = root_mean_squared_error(y_true=y_list, y_pred=predicted_Y)\n",
        "r_square = r2_score(y_list, predicted_Y)\n",
        "\n",
        "print(\"MAE:\",mae)\n",
        "print(\"MSE:\",mse)\n",
        "print(\"RMSE:\",rmse)\n",
        "print(\"r_square:\",r_square)"
      ],
      "metadata": {
        "colab": {
          "base_uri": "https://localhost:8080/"
        },
        "id": "HzI9mRYSxMsV",
        "outputId": "dc1d745f-5938-4ea9-dc41-dcf82507cae3"
      },
      "execution_count": null,
      "outputs": [
        {
          "output_type": "stream",
          "name": "stdout",
          "text": [
            "MAE: 5.155505630375659\n",
            "MSE: 34.62048082924357\n",
            "RMSE: 5.883917133104745\n",
            "r_square: 0.9841749058943147\n"
          ]
        }
      ]
    },
    {
      "cell_type": "markdown",
      "source": [
        "Code provided in the assignment"
      ],
      "metadata": {
        "id": "Hrpv7q5Nw4xA"
      }
    },
    {
      "cell_type": "code",
      "source": [
        "X = df[['x1', 'x2', 'x3']]\n",
        "Y = df['y']\n"
      ],
      "metadata": {
        "id": "DWv-qC4ywtHb"
      },
      "execution_count": null,
      "outputs": []
    },
    {
      "cell_type": "code",
      "source": [
        "regr = LinearRegression()\n",
        "\n",
        "regr.fit(X, Y)\n",
        "print(\"Slopes: \",regr.coef_)\n",
        "print(\"Intercept: \",regr.intercept_)"
      ],
      "metadata": {
        "colab": {
          "base_uri": "https://localhost:8080/"
        },
        "id": "dhi64OzAw_Hz",
        "outputId": "c99fec68-d4c8-4aa7-b95e-5d25d0b737ed"
      },
      "execution_count": null,
      "outputs": [
        {
          "output_type": "stream",
          "name": "stdout",
          "text": [
            "Slopes:  [6.13243763 2.39226554 7.74681038]\n",
            "Intercept:  13.239477824445359\n"
          ]
        }
      ]
    },
    {
      "cell_type": "code",
      "source": [
        "predicted_Y_SK = []\n",
        "for i in range(100):\n",
        "  r1 = 13.239477824445359 + 6.13243763 * x_list[0][i] + 2.39226554 * x_list[1][i] + 7.74681038 * x_list[2][i]\n",
        "  predicted_Y_SK.append(r1)"
      ],
      "metadata": {
        "id": "7ifjbrbIxBIi"
      },
      "execution_count": null,
      "outputs": []
    },
    {
      "cell_type": "code",
      "source": [
        "mae = mean_absolute_error(y_true=y_list, y_pred=predicted_Y_SK)\n",
        "mse = mean_squared_error(y_true=y_list,  y_pred=predicted_Y_SK)\n",
        "rmse = root_mean_squared_error(y_true=y_list, y_pred=predicted_Y_SK)\n",
        "r_square = r2_score(y_list, predicted_Y_SK)\n",
        "\n",
        "print(\"MAE:\",mae)\n",
        "print(\"MSE:\",mse)\n",
        "print(\"RMSE:\",rmse)\n",
        "print(\"r_square:\",r_square)"
      ],
      "metadata": {
        "colab": {
          "base_uri": "https://localhost:8080/"
        },
        "id": "vHVCO4xuxDkh",
        "outputId": "791473c8-ca22-4664-9e76-110020f5a5d9"
      },
      "execution_count": null,
      "outputs": [
        {
          "output_type": "stream",
          "name": "stdout",
          "text": [
            "MAE: 5.15550562646378\n",
            "MSE: 34.62048082924356\n",
            "RMSE: 5.883917133104745\n",
            "r_square: 0.9841749058943147\n"
          ]
        }
      ]
    },
    {
      "cell_type": "markdown",
      "source": [
        "Gradient Descent\n"
      ],
      "metadata": {
        "id": "O5GPcYMLaHja"
      }
    },
    {
      "cell_type": "code",
      "source": [
        "def gradient_descent(X1, X2, X3, Y, learning_rate, epoch):\n",
        "\n",
        "    n = len(X1)\n",
        "\n",
        "    # starting from 1 for each values and then descending to a saturation\n",
        "    c = 0; m1 = 0; m2 = 0; m3 = 0\n",
        "    for _ in range(epoch):\n",
        "\n",
        "        sum = 0\n",
        "        for i in range(n):\n",
        "            value = c + m1*X1[i] +  m2*X2[i] +  m3*X3[i] - Y[i]\n",
        "            sum = sum + value\n",
        "        c_new = c - learning_rate * ((2/n) * sum)\n",
        "        c = c_new\n",
        "\n",
        "        sum = 0\n",
        "        for i in range(n):\n",
        "            value = c*X1[i] + m1*X1[i]*X1[i] + m2*X2[i]*X1[i] + m3*X3[i]*X1[i] - Y[i]*X1[i]\n",
        "            sum = sum + value\n",
        "        m1_new = m1 - learning_rate * ((2/n) * sum)\n",
        "        m1 = m1_new\n",
        "\n",
        "        sum = 0\n",
        "        for i in range(n):\n",
        "            value = c*X2[i] + m1*X1[i]*X2[i] + m2*X2[i]*X2[i] + m3*X3[i]*X2[i] - Y[i]*X2[i]\n",
        "            sum = sum + value\n",
        "        m2_new = m2 - learning_rate * ((2/n) * sum)\n",
        "        m2 = m2_new\n",
        "\n",
        "        sum = 0\n",
        "        for i in range(n):\n",
        "            value = c*X3[i] + m1*X1[i]*X3[i] + m2*X2[i]*X3[i] + m3*X3[i]*X3[i] - Y[i]*X3[i]\n",
        "            sum = sum + value\n",
        "        m3_new = m3 - learning_rate * ((2/n) * sum)\n",
        "        m3 = m3_new\n",
        "\n",
        "    return (m1, m2, m3, c)\n",
        "\n",
        "result = gradient_descent(x_list[0], x_list[1], x_list[2], y_list, 0.01, 6000)\n",
        "print(result)\n"
      ],
      "metadata": {
        "colab": {
          "base_uri": "https://localhost:8080/"
        },
        "id": "wbnRvOwfOykT",
        "outputId": "73812243-4cd6-4830-d8aa-d95d1ad940ca"
      },
      "execution_count": null,
      "outputs": [
        {
          "output_type": "stream",
          "name": "stdout",
          "text": [
            "(6.100823243679714, 2.415559644845767, 7.75560038149159, 13.215822857145014)\n"
          ]
        }
      ]
    },
    {
      "cell_type": "code",
      "source": [
        "predicted_Y_GD = []\n",
        "for i in range(100):\n",
        "  r1 = 13.215822857145014 + 6.100823243679714 * x_list[0][i] + 2.415559644845767 * x_list[1][i] + 7.75560038149159 * x_list[2][i]\n",
        "  predicted_Y_GD.append(r1)"
      ],
      "metadata": {
        "id": "zJpZ8HMdv-GU"
      },
      "execution_count": null,
      "outputs": []
    },
    {
      "cell_type": "code",
      "source": [
        "mae = mean_absolute_error(y_true=y_list, y_pred=predicted_Y_GD)\n",
        "mse = mean_squared_error(y_true=y_list,  y_pred=predicted_Y_GD)\n",
        "rmse = root_mean_squared_error(y_true=y_list, y_pred=predicted_Y_GD)\n",
        "\n",
        "\n",
        "print(\"MAE:\",mae)\n",
        "print(\"MSE:\",mse)\n",
        "print(\"RMSE:\",rmse)"
      ],
      "metadata": {
        "colab": {
          "base_uri": "https://localhost:8080/"
        },
        "id": "r4iVb_mDvVdg",
        "outputId": "cae5e92e-7ea3-4f27-b643-020d5853d239"
      },
      "execution_count": null,
      "outputs": [
        {
          "output_type": "stream",
          "name": "stdout",
          "text": [
            "MAE: 5.155292760995812\n",
            "MSE: 34.62054588549113\n",
            "RMSE: 5.883922661413144\n"
          ]
        }
      ]
    }
  ]
}