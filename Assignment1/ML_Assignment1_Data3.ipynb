{
  "nbformat": 4,
  "nbformat_minor": 0,
  "metadata": {
    "colab": {
      "provenance": []
    },
    "kernelspec": {
      "name": "python3",
      "display_name": "Python 3"
    },
    "language_info": {
      "name": "python"
    }
  },
  "cells": [
    {
      "cell_type": "code",
      "source": [
        "# !pip install -U scikit-learn"
      ],
      "metadata": {
        "id": "sYYsaqM5HSuA"
      },
      "execution_count": null,
      "outputs": []
    },
    {
      "cell_type": "code",
      "source": [
        "import matplotlib.pyplot as plt\n",
        "from sklearn.linear_model import LinearRegression\n",
        "from sklearn.metrics import mean_absolute_error,mean_squared_error,root_mean_squared_error, r2_score\n",
        "import plotly.express as px\n",
        "import math\n",
        "import numpy as np\n",
        "import pandas as pd"
      ],
      "metadata": {
        "id": "RUvUbubhYjR3"
      },
      "execution_count": null,
      "outputs": []
    },
    {
      "cell_type": "code",
      "source": [
        "df = pd.read_csv(\"Data3.csv\")\n",
        "df.head()"
      ],
      "metadata": {
        "id": "jv7-XR0WuXCz",
        "colab": {
          "base_uri": "https://localhost:8080/",
          "height": 206
        },
        "outputId": "d00c4935-b391-421e-9bfa-b1528e32b381"
      },
      "execution_count": null,
      "outputs": [
        {
          "output_type": "execute_result",
          "data": {
            "text/plain": [
              "     x         z\n",
              "0  0.1  1.159563\n",
              "1  0.2  1.002381\n",
              "2  0.3  0.935920\n",
              "3  0.4  0.016261\n",
              "4  0.5  1.172652"
            ],
            "text/html": [
              "\n",
              "  <div id=\"df-9ba1a6d9-550e-4324-80cc-0b7aac60d462\" class=\"colab-df-container\">\n",
              "    <div>\n",
              "<style scoped>\n",
              "    .dataframe tbody tr th:only-of-type {\n",
              "        vertical-align: middle;\n",
              "    }\n",
              "\n",
              "    .dataframe tbody tr th {\n",
              "        vertical-align: top;\n",
              "    }\n",
              "\n",
              "    .dataframe thead th {\n",
              "        text-align: right;\n",
              "    }\n",
              "</style>\n",
              "<table border=\"1\" class=\"dataframe\">\n",
              "  <thead>\n",
              "    <tr style=\"text-align: right;\">\n",
              "      <th></th>\n",
              "      <th>x</th>\n",
              "      <th>z</th>\n",
              "    </tr>\n",
              "  </thead>\n",
              "  <tbody>\n",
              "    <tr>\n",
              "      <th>0</th>\n",
              "      <td>0.1</td>\n",
              "      <td>1.159563</td>\n",
              "    </tr>\n",
              "    <tr>\n",
              "      <th>1</th>\n",
              "      <td>0.2</td>\n",
              "      <td>1.002381</td>\n",
              "    </tr>\n",
              "    <tr>\n",
              "      <th>2</th>\n",
              "      <td>0.3</td>\n",
              "      <td>0.935920</td>\n",
              "    </tr>\n",
              "    <tr>\n",
              "      <th>3</th>\n",
              "      <td>0.4</td>\n",
              "      <td>0.016261</td>\n",
              "    </tr>\n",
              "    <tr>\n",
              "      <th>4</th>\n",
              "      <td>0.5</td>\n",
              "      <td>1.172652</td>\n",
              "    </tr>\n",
              "  </tbody>\n",
              "</table>\n",
              "</div>\n",
              "    <div class=\"colab-df-buttons\">\n",
              "\n",
              "  <div class=\"colab-df-container\">\n",
              "    <button class=\"colab-df-convert\" onclick=\"convertToInteractive('df-9ba1a6d9-550e-4324-80cc-0b7aac60d462')\"\n",
              "            title=\"Convert this dataframe to an interactive table.\"\n",
              "            style=\"display:none;\">\n",
              "\n",
              "  <svg xmlns=\"http://www.w3.org/2000/svg\" height=\"24px\" viewBox=\"0 -960 960 960\">\n",
              "    <path d=\"M120-120v-720h720v720H120Zm60-500h600v-160H180v160Zm220 220h160v-160H400v160Zm0 220h160v-160H400v160ZM180-400h160v-160H180v160Zm440 0h160v-160H620v160ZM180-180h160v-160H180v160Zm440 0h160v-160H620v160Z\"/>\n",
              "  </svg>\n",
              "    </button>\n",
              "\n",
              "  <style>\n",
              "    .colab-df-container {\n",
              "      display:flex;\n",
              "      gap: 12px;\n",
              "    }\n",
              "\n",
              "    .colab-df-convert {\n",
              "      background-color: #E8F0FE;\n",
              "      border: none;\n",
              "      border-radius: 50%;\n",
              "      cursor: pointer;\n",
              "      display: none;\n",
              "      fill: #1967D2;\n",
              "      height: 32px;\n",
              "      padding: 0 0 0 0;\n",
              "      width: 32px;\n",
              "    }\n",
              "\n",
              "    .colab-df-convert:hover {\n",
              "      background-color: #E2EBFA;\n",
              "      box-shadow: 0px 1px 2px rgba(60, 64, 67, 0.3), 0px 1px 3px 1px rgba(60, 64, 67, 0.15);\n",
              "      fill: #174EA6;\n",
              "    }\n",
              "\n",
              "    .colab-df-buttons div {\n",
              "      margin-bottom: 4px;\n",
              "    }\n",
              "\n",
              "    [theme=dark] .colab-df-convert {\n",
              "      background-color: #3B4455;\n",
              "      fill: #D2E3FC;\n",
              "    }\n",
              "\n",
              "    [theme=dark] .colab-df-convert:hover {\n",
              "      background-color: #434B5C;\n",
              "      box-shadow: 0px 1px 3px 1px rgba(0, 0, 0, 0.15);\n",
              "      filter: drop-shadow(0px 1px 2px rgba(0, 0, 0, 0.3));\n",
              "      fill: #FFFFFF;\n",
              "    }\n",
              "  </style>\n",
              "\n",
              "    <script>\n",
              "      const buttonEl =\n",
              "        document.querySelector('#df-9ba1a6d9-550e-4324-80cc-0b7aac60d462 button.colab-df-convert');\n",
              "      buttonEl.style.display =\n",
              "        google.colab.kernel.accessAllowed ? 'block' : 'none';\n",
              "\n",
              "      async function convertToInteractive(key) {\n",
              "        const element = document.querySelector('#df-9ba1a6d9-550e-4324-80cc-0b7aac60d462');\n",
              "        const dataTable =\n",
              "          await google.colab.kernel.invokeFunction('convertToInteractive',\n",
              "                                                    [key], {});\n",
              "        if (!dataTable) return;\n",
              "\n",
              "        const docLinkHtml = 'Like what you see? Visit the ' +\n",
              "          '<a target=\"_blank\" href=https://colab.research.google.com/notebooks/data_table.ipynb>data table notebook</a>'\n",
              "          + ' to learn more about interactive tables.';\n",
              "        element.innerHTML = '';\n",
              "        dataTable['output_type'] = 'display_data';\n",
              "        await google.colab.output.renderOutput(dataTable, element);\n",
              "        const docLink = document.createElement('div');\n",
              "        docLink.innerHTML = docLinkHtml;\n",
              "        element.appendChild(docLink);\n",
              "      }\n",
              "    </script>\n",
              "  </div>\n",
              "\n",
              "\n",
              "<div id=\"df-b0287980-6e41-4c47-a83b-5de1006437d5\">\n",
              "  <button class=\"colab-df-quickchart\" onclick=\"quickchart('df-b0287980-6e41-4c47-a83b-5de1006437d5')\"\n",
              "            title=\"Suggest charts\"\n",
              "            style=\"display:none;\">\n",
              "\n",
              "<svg xmlns=\"http://www.w3.org/2000/svg\" height=\"24px\"viewBox=\"0 0 24 24\"\n",
              "     width=\"24px\">\n",
              "    <g>\n",
              "        <path d=\"M19 3H5c-1.1 0-2 .9-2 2v14c0 1.1.9 2 2 2h14c1.1 0 2-.9 2-2V5c0-1.1-.9-2-2-2zM9 17H7v-7h2v7zm4 0h-2V7h2v10zm4 0h-2v-4h2v4z\"/>\n",
              "    </g>\n",
              "</svg>\n",
              "  </button>\n",
              "\n",
              "<style>\n",
              "  .colab-df-quickchart {\n",
              "      --bg-color: #E8F0FE;\n",
              "      --fill-color: #1967D2;\n",
              "      --hover-bg-color: #E2EBFA;\n",
              "      --hover-fill-color: #174EA6;\n",
              "      --disabled-fill-color: #AAA;\n",
              "      --disabled-bg-color: #DDD;\n",
              "  }\n",
              "\n",
              "  [theme=dark] .colab-df-quickchart {\n",
              "      --bg-color: #3B4455;\n",
              "      --fill-color: #D2E3FC;\n",
              "      --hover-bg-color: #434B5C;\n",
              "      --hover-fill-color: #FFFFFF;\n",
              "      --disabled-bg-color: #3B4455;\n",
              "      --disabled-fill-color: #666;\n",
              "  }\n",
              "\n",
              "  .colab-df-quickchart {\n",
              "    background-color: var(--bg-color);\n",
              "    border: none;\n",
              "    border-radius: 50%;\n",
              "    cursor: pointer;\n",
              "    display: none;\n",
              "    fill: var(--fill-color);\n",
              "    height: 32px;\n",
              "    padding: 0;\n",
              "    width: 32px;\n",
              "  }\n",
              "\n",
              "  .colab-df-quickchart:hover {\n",
              "    background-color: var(--hover-bg-color);\n",
              "    box-shadow: 0 1px 2px rgba(60, 64, 67, 0.3), 0 1px 3px 1px rgba(60, 64, 67, 0.15);\n",
              "    fill: var(--button-hover-fill-color);\n",
              "  }\n",
              "\n",
              "  .colab-df-quickchart-complete:disabled,\n",
              "  .colab-df-quickchart-complete:disabled:hover {\n",
              "    background-color: var(--disabled-bg-color);\n",
              "    fill: var(--disabled-fill-color);\n",
              "    box-shadow: none;\n",
              "  }\n",
              "\n",
              "  .colab-df-spinner {\n",
              "    border: 2px solid var(--fill-color);\n",
              "    border-color: transparent;\n",
              "    border-bottom-color: var(--fill-color);\n",
              "    animation:\n",
              "      spin 1s steps(1) infinite;\n",
              "  }\n",
              "\n",
              "  @keyframes spin {\n",
              "    0% {\n",
              "      border-color: transparent;\n",
              "      border-bottom-color: var(--fill-color);\n",
              "      border-left-color: var(--fill-color);\n",
              "    }\n",
              "    20% {\n",
              "      border-color: transparent;\n",
              "      border-left-color: var(--fill-color);\n",
              "      border-top-color: var(--fill-color);\n",
              "    }\n",
              "    30% {\n",
              "      border-color: transparent;\n",
              "      border-left-color: var(--fill-color);\n",
              "      border-top-color: var(--fill-color);\n",
              "      border-right-color: var(--fill-color);\n",
              "    }\n",
              "    40% {\n",
              "      border-color: transparent;\n",
              "      border-right-color: var(--fill-color);\n",
              "      border-top-color: var(--fill-color);\n",
              "    }\n",
              "    60% {\n",
              "      border-color: transparent;\n",
              "      border-right-color: var(--fill-color);\n",
              "    }\n",
              "    80% {\n",
              "      border-color: transparent;\n",
              "      border-right-color: var(--fill-color);\n",
              "      border-bottom-color: var(--fill-color);\n",
              "    }\n",
              "    90% {\n",
              "      border-color: transparent;\n",
              "      border-bottom-color: var(--fill-color);\n",
              "    }\n",
              "  }\n",
              "</style>\n",
              "\n",
              "  <script>\n",
              "    async function quickchart(key) {\n",
              "      const quickchartButtonEl =\n",
              "        document.querySelector('#' + key + ' button');\n",
              "      quickchartButtonEl.disabled = true;  // To prevent multiple clicks.\n",
              "      quickchartButtonEl.classList.add('colab-df-spinner');\n",
              "      try {\n",
              "        const charts = await google.colab.kernel.invokeFunction(\n",
              "            'suggestCharts', [key], {});\n",
              "      } catch (error) {\n",
              "        console.error('Error during call to suggestCharts:', error);\n",
              "      }\n",
              "      quickchartButtonEl.classList.remove('colab-df-spinner');\n",
              "      quickchartButtonEl.classList.add('colab-df-quickchart-complete');\n",
              "    }\n",
              "    (() => {\n",
              "      let quickchartButtonEl =\n",
              "        document.querySelector('#df-b0287980-6e41-4c47-a83b-5de1006437d5 button');\n",
              "      quickchartButtonEl.style.display =\n",
              "        google.colab.kernel.accessAllowed ? 'block' : 'none';\n",
              "    })();\n",
              "  </script>\n",
              "</div>\n",
              "\n",
              "    </div>\n",
              "  </div>\n"
            ]
          },
          "metadata": {},
          "execution_count": 6
        }
      ]
    },
    {
      "cell_type": "code",
      "source": [
        "x_list = [float(i) for i in df['x']]\n",
        "y_list = [float(i) for i in df['z']]\n",
        "\n",
        "plt.scatter(x_list, y_list, s=1.5)\n",
        "plt.show()"
      ],
      "metadata": {
        "id": "XSSzrozZOORY",
        "colab": {
          "base_uri": "https://localhost:8080/",
          "height": 430
        },
        "outputId": "85962b6a-1e1c-4c7f-aa0b-5ab0fea4d171"
      },
      "execution_count": null,
      "outputs": [
        {
          "output_type": "display_data",
          "data": {
            "text/plain": [
              "<Figure size 640x480 with 1 Axes>"
            ],
            "image/png": "[encoded data removed]"
          },
          "metadata": {}
        }
      ]
    },
    {
      "cell_type": "code",
      "source": [
        "# Now it is the turn of the function for slope and intercept\n",
        "def minimize(x_list, y_list):\n",
        "  '''\n",
        "  Returns the value of slope(m) and intercept(c)\n",
        "\n",
        "  Parameter x_list: List of values of inputs\n",
        "  Precondition: This list must contain int or float values\n",
        "\n",
        "  Parameter y_list: List of valus of output of the experiment\n",
        "  Precondition: This list must contain int or float values\n",
        "\n",
        "  Parameter n: It is the number of experiment\n",
        "  Precondition: It must be a positive integer\n",
        "  '''\n",
        "  assert type(x_list) == list,'Please give inputs in a list'\n",
        "  assert type(y_list) == list,'Please provide the outputs in a list'\n",
        "\n",
        "  # Accumulators...\n",
        "  n = len(x_list)\n",
        "  xy = 0\n",
        "  x = 0\n",
        "  y = 0\n",
        "  x_square = 0\n",
        "\n",
        "  for i in range(n):\n",
        "    y += y_list[i]\n",
        "    x += x_list[i]\n",
        "    x_square += x_list[i] ** 2\n",
        "    xy += x_list[i] * y_list[i]\n",
        "  xyBar = xy / n\n",
        "  xBar = x / n\n",
        "  yBar = y / n\n",
        "  xSquareBar = x_square / n\n",
        "  xBarSquare = xBar ** 2\n",
        "  # Calculating values of m and c using above terms in above mentoned formula for m and c.\n",
        "  m_new = (xyBar - xBar * yBar) / (xSquareBar - xBarSquare)\n",
        "  c_new = yBar - m_new * xBar\n",
        "\n",
        "  return (m_new, c_new)"
      ],
      "metadata": {
        "id": "Wxo_0w1IYzo6"
      },
      "execution_count": null,
      "outputs": []
    },
    {
      "cell_type": "code",
      "source": [
        "observed_y = y_list\n",
        "\n",
        "y_analytical = []\n",
        "new_values = minimize(x_list, observed_y)\n",
        "\n",
        "print(new_values[0], new_values[1])\n",
        "\n",
        "for i in range(len(df)):\n",
        "    y_analytical.append(new_values[0]*x_list[i] + new_values[1])"
      ],
      "metadata": {
        "id": "0mP0RNFpwTwz",
        "colab": {
          "base_uri": "https://localhost:8080/"
        },
        "outputId": "02de716b-6175-4b65-83a4-74892c85a40a"
      },
      "execution_count": null,
      "outputs": [
        {
          "output_type": "stream",
          "name": "stdout",
          "text": [
            "0.09419021414817913 1.1770620783119958\n"
          ]
        }
      ]
    },
    {
      "cell_type": "code",
      "source": [
        "# Let's play with the graph\n",
        "plt.scatter(x_list, y_list, label = 'Points given in the data', color='green', s = 0.8)\n",
        "plt.plot(x_list, y_analytical, label = 'Line drawn by the calculated m and c', color = 'red')\n",
        "plt.legend()\n",
        "plt.show()"
      ],
      "metadata": {
        "id": "9WtHchKeZIB4",
        "colab": {
          "base_uri": "https://localhost:8080/",
          "height": 430
        },
        "outputId": "2c9b7eb2-3289-4f15-e009-1d277a7d0abc"
      },
      "execution_count": null,
      "outputs": [
        {
          "output_type": "display_data",
          "data": {
            "text/plain": [
              "<Figure size 640x480 with 1 Axes>"
            ],
            "image/png": "[encoded data removed]"
          },
          "metadata": {}
        }
      ]
    },
    {
      "cell_type": "code",
      "source": [
        "# Now for calculating the error functions\n",
        "\n",
        "x_array = np.array(x_list).reshape(-1, 1)\n",
        "y_array = np.array(y_list).reshape(-1, 1)\n",
        "\n",
        "y_pred_array_myCode = np.array(y_analytical).reshape(-1, 1)"
      ],
      "metadata": {
        "id": "gXI4XfB4ZSTB"
      },
      "execution_count": null,
      "outputs": []
    },
    {
      "cell_type": "code",
      "source": [
        "mae = mean_absolute_error(y_true=y_array,y_pred=y_pred_array_myCode)\n",
        "#squared True returns MSE value, False returns RMSE value.\n",
        "mse = mean_squared_error(y_true=y_array,y_pred=y_pred_array_myCode) #default=True\n",
        "rmse = mean_squared_error(y_true=y_array,y_pred=y_pred_array_myCode,squared=False)\n",
        "\n",
        "print(\"MAE:\",mae)\n",
        "print(\"MSE:\",mse)\n",
        "print(\"RMSE:\",rmse)"
      ],
      "metadata": {
        "colab": {
          "base_uri": "https://localhost:8080/"
        },
        "id": "Fy3h8mZSZWZx",
        "outputId": "045df318-d823-4d9f-d1a6-31086f4c2677"
      },
      "execution_count": null,
      "outputs": [
        {
          "output_type": "stream",
          "name": "stdout",
          "text": [
            "MAE: 0.29467793301310363\n",
            "MSE: 0.16173044143088558\n",
            "RMSE: 0.4021572347116058\n"
          ]
        },
        {
          "output_type": "stream",
          "name": "stderr",
          "text": [
            "/usr/local/lib/python3.10/dist-packages/sklearn/metrics/_regression.py:483: FutureWarning: 'squared' is deprecated in version 1.4 and will be removed in 1.6. To calculate the root mean squared error, use the function'root_mean_squared_error'.\n",
            "  warnings.warn(\n"
          ]
        }
      ]
    },
    {
      "cell_type": "code",
      "source": [
        "# Now let's verify the above written code using inbuilt library SKlearn\n",
        "\n",
        "regr = LinearRegression()\n",
        "\n",
        "x_array = np.array(x_list).reshape(-1, 1)\n",
        "y_array = np.array(y_list).reshape(-1, 1)\n",
        "\n",
        "regr.fit(x_array,y_array)\n",
        "print(\"Slope: \", regr.coef_)\n",
        "print(\"Intercept: \", regr.intercept_)"
      ],
      "metadata": {
        "colab": {
          "base_uri": "https://localhost:8080/"
        },
        "id": "BhjSHB_EZZFB",
        "outputId": "a0b19896-2f90-4b80-f24b-a8d6ec86eca8"
      },
      "execution_count": null,
      "outputs": [
        {
          "output_type": "stream",
          "name": "stdout",
          "text": [
            "Slope:  [[0.09419021]]\n",
            "Intercept:  [1.17706208]\n"
          ]
        }
      ]
    },
    {
      "cell_type": "code",
      "source": [
        "y_pred_list = list(y_pred_array_myCode.reshape(1,-1)[0])\n",
        "\n",
        "plt.scatter(x_list, y_list,s=0.4)\n",
        "plt.plot(x_list, y_pred_list)\n",
        "plt.tick_params(left = False, bottom = False)\n",
        "plt.show()"
      ],
      "metadata": {
        "id": "wS2yRQtOZbL4",
        "colab": {
          "base_uri": "https://localhost:8080/",
          "height": 430
        },
        "outputId": "f4adb40e-5196-4c8c-d19a-26ca41384890"
      },
      "execution_count": null,
      "outputs": [
        {
          "output_type": "display_data",
          "data": {
            "text/plain": [
              "<Figure size 640x480 with 1 Axes>"
            ],
            "image/png": "[encoded data removed]"
          },
          "metadata": {}
        }
      ]
    },
    {
      "cell_type": "code",
      "source": [
        "mae = mean_absolute_error(y_true=y_array,y_pred=y_pred_array_myCode)\n",
        "#squared True returns MSE value, False returns RMSE value.\n",
        "mse = mean_squared_error(y_true=y_array,y_pred=y_pred_array_myCode) #default=True\n",
        "rmse = mean_squared_error(y_true=y_array,y_pred=y_pred_array_myCode,squared=False)\n",
        "\n",
        "print(\"MAE:\",mae)\n",
        "print(\"MSE:\",mse)\n",
        "print(\"RMSE:\",rmse)"
      ],
      "metadata": {
        "id": "rA-7w0NSZd3R",
        "colab": {
          "base_uri": "https://localhost:8080/"
        },
        "outputId": "d46d1baa-e405-47a7-c24b-3aa289709272"
      },
      "execution_count": null,
      "outputs": [
        {
          "output_type": "stream",
          "name": "stdout",
          "text": [
            "MAE: 0.29467793301310363\n",
            "MSE: 0.16173044143088558\n",
            "RMSE: 0.4021572347116058\n"
          ]
        },
        {
          "output_type": "stream",
          "name": "stderr",
          "text": [
            "/usr/local/lib/python3.10/dist-packages/sklearn/metrics/_regression.py:483: FutureWarning: 'squared' is deprecated in version 1.4 and will be removed in 1.6. To calculate the root mean squared error, use the function'root_mean_squared_error'.\n",
            "  warnings.warn(\n"
          ]
        }
      ]
    }
  ]
}